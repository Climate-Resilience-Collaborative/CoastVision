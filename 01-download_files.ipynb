{
 "cells": [
  {
   "cell_type": "code",
   "execution_count": 1,
   "metadata": {},
   "outputs": [
    {
     "name": "stdout",
     "output_type": "stream",
     "text": [
      "here is a list of the regions and there sites available:\n",
      "waikiki\n",
      "dict_keys(['waikiki'])\n",
      "Enter the region (if multiple enter in comma dilimeted list) you would like to look at (or 'all' for every region)\n",
      "waikiki\n",
      "dict_keys(['waikiki'])\n",
      "{'waikiki': {'waikiki': {'item_type': 'PSScene', 'geometry_filter': {'type': 'GeometryFilter', 'field_name': 'geometry', 'config': {'type': 'Polygon', 'coordinates': [[[-157.8250490202958, 21.271453550602065], [-157.8322743064407, 21.27395476693584], [-157.83027987575724, 21.279016574653696], [-157.8230543851239, 21.276515264363113], [-157.8250490202958, 21.271453550602065]]]}}, 'date_range_filter': {'type': 'DateRangeFilter', 'field_name': 'acquired', 'config': {'gte': '2024-01-01T00:00:00.000Z', 'lte': '2024-02-15T00:00:00.000Z'}}, 'cloud_cover_filter': {'type': 'RangeFilter', 'field_name': 'cloud_cover', 'config': {'lte': 0.3}}}}}\n",
      "site name: waikiki\n"
     ]
    }
   ],
   "source": [
    "from planetscopeAPI import PlanetScopeOrdersAPI\n",
    "API = PlanetScopeOrdersAPI.PlanetScopeAPIOrder(selectSites=True, threading = False, printPolling=True) # initalizing the class variable\n",
    "API.get_all_data()"
   ]
  },
  {
   "cell_type": "code",
   "execution_count": null,
   "metadata": {},
   "outputs": [],
   "source": []
  }
 ],
 "metadata": {
  "kernelspec": {
   "display_name": "Python 3",
   "language": "python",
   "name": "python3"
  },
  "language_info": {
   "codemirror_mode": {
    "name": "ipython",
    "version": 3
   },
   "file_extension": ".py",
   "mimetype": "text/x-python",
   "name": "python",
   "nbconvert_exporter": "python",
   "pygments_lexer": "ipython3",
   "version": "3.9.17"
  }
 },
 "nbformat": 4,
 "nbformat_minor": 2
}

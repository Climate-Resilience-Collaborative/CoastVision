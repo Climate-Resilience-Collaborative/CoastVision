{
 "cells": [
  {
   "cell_type": "markdown",
   "id": "49653ffc",
   "metadata": {},
   "source": [
    "# CoastVision Example: Waikiki\n",
    "<div style=\"display: flex; align-items: flex-start;\">\n",
    "    <div style=\"margin-right: 40px;\">\n",
    "        <p>CoastVision is an open-source Python framework geared towards generating satellite-derived shorelines (SDS) in <a href='https://developers.planet.com/docs/data/planetscope/'>PlanetScope</a> imagery. The image the right is two CoastVision SDS superimposed over drone imagery from the same week. This notebook provides an end-to-end example for Waikiki Beach Hawaiʻi.</p>\n",
    "        <ol>\n",
    "            <li>Download PlanetScope imagery for a given area of interest (AOI) and timeframe</li>\n",
    "            <li>Image co-registration</li>\n",
    "            <li>Shoreline extraction</li>\n",
    "            <li>Tidal Correction</li>\n",
    "            <li>QAQC</li>\n",
    "        </ol>\n",
    "    </div>\n",
    "    <div>\n",
    "        <img src=\"media\\coastvision_shoreline_on_drone_hanaumapng.png\" alt=\"SDS superimposed on high-resolution drone imagery\" style=\"max-width: 100%; height: 100%;\">\n",
    "    </div>\n",
    "</div>\n",
    "\n",
    "\n",
    "# Import Libraries\n",
    "If you have not yet set up enviromment in conda using `coastvision.yml`\n",
    "```\n",
    "cd path/to/CoastVision\n",
    "conda env create -f coastvision.yml\n",
    "conda activate coastvision\n",
    "```"
   ]
  },
  {
   "cell_type": "code",
   "execution_count": 5,
   "id": "3dbf479e",
   "metadata": {},
   "outputs": [],
   "source": [
    "from planetscopeAPI import PlanetScopeOrdersAPI\n",
    "from coastvision import coastvisionRun, setup, coastvisionCoreg, coastvisionTides\n",
    "import pandas as pd\n",
    "import os"
   ]
  },
  {
   "cell_type": "markdown",
   "id": "b32cdbbc",
   "metadata": {},
   "source": [
    "# 1. Download PlanetScope Imagery\n",
    "<a href='https://developers.planet.com/docs/data/planetscope/'>PlanetScope</a> is a satellite constellation opperated by <a href='https://www.planet.com/'>Planet Labs Inc.</a> The PlanetScope constellation is made up of roughtly 130 satellites, capable of imageing the entire land surface of Earth with daily revisit times and 3 meter spatial resolution. The imagery has four bands: red, green, blue, and near-infrared.\n",
    "\n",
    "In the following cell, information regarding your site (beach or streatch of coastline) should be entered which will be used to download applicable satellite imagery from Planet\n",
    "1. First enter (lat, long) coordinates (`coords`) creating an AOI (this can be any polygon) around a beach or coastline streatch you are interested in.\n",
    "2. Next, create the `sitename` and `region` for the site\n",
    "3. Enter a start and end date. Imagery from between and during these dates will be downloaded for the given API. Date format: `YYYY-MM-DD`\n",
    "4. Downloading PlanetScope imagery requires an API key. If you do not have a Planet account, you can create one following these steps: <a href='https://www.planet.com/get-started/'>Get Started with Planet</a>\n",
    "\n",
    "To access your API key log into <a href='https://www.planet.com/'>Planet</a> and navigaet to \"My Settings\" (see image below).\n",
    "\n",
    "<img src=\"media\\api_key_planet.JPG\" alt=\"API key in settings\" style=\"max-width:70%\">\n",
    "\n"
   ]
  },
  {
   "cell_type": "code",
   "execution_count": 6,
   "id": "18db7eb0",
   "metadata": {},
   "outputs": [],
   "source": [
    "# # create AOI coords (this can be a poly gone with any number of points)\n",
    "# coords = [\n",
    "#     [-157.73757302038916,21.4064967434262],\n",
    "#     [-157.74027668707618,21.404379123418543],\n",
    "#     [-157.73611389868506,21.40058331266353],\n",
    "#     [-157.72770249121436,21.397626507579627],\n",
    "#     [-157.72611462347754,21.39910491759609],\n",
    "#     [-157.7328952478672,21.40226147273139],\n",
    "#     [-157.73757302038916,21.4064967434262]\n",
    "#     ]\n",
    "\n",
    "coords = [[-157.8250490202958, 21.271453550602065], [-157.8322743064407, 21.27395476693584], [-157.83027987575724, 21.279016574653696], [-157.8230543851239, 21.276515264363113], [-157.8250490202958, 21.271453550602065]]\n",
    "\n",
    "region = 'hawaii'\n",
    "sitename = 'waikiki'\n",
    "setup.create_site_dict_json_for_API(\n",
    "    site_name=sitename,\n",
    "    aoi=coords,\n",
    "    start_date=\"2024-01-01\",\n",
    "    end_date=\"2024-03-01\")\n",
    "\n",
    "setup.write_api_key_file(api_key='Your PlanetScope API Key') # this creates a text file that contains your API key and is referenced by PlaneScopeOrdersAPI"
   ]
  },
  {
   "cell_type": "code",
   "execution_count": null,
   "id": "92303adf",
   "metadata": {},
   "outputs": [],
   "source": [
    "## downloading imagery takes some time as it's being requested and processed through Planet. For larger projects, leave for multiple hours or a day. \n",
    "## For testing purposes 60 days takes approximately 18 min\n",
    "\n",
    "import importlib\n",
    "importlib.reload(PlanetScopeOrdersAPI)\n",
    "API = PlanetScopeOrdersAPI.PlanetScopeAPIOrder(selectSites=False, printPolling=True) # initalizing the class variable\n",
    "API.get_all_data()"
   ]
  },
  {
   "cell_type": "markdown",
   "id": "1bf66570",
   "metadata": {},
   "source": [
    "# 2. Create Transects and Reference Shoreline\n",
    "## 2.1 Transects\n",
    "Coastal change is often measured through a series of shore normal transects. The intersection of SDS are computed and used to measure erosion and accreation along these transects. In this case the intersections are saved in a dataframe of the following structure:\n",
    "\n",
    "<body>\n",
    "    <table border=\"1\">\n",
    "        <tr>\n",
    "            <th>Timestamp</th>\n",
    "            <th>Transect Label 1</th>\n",
    "            <th>Transect Label 2</th>\n",
    "            <th>...</th>\n",
    "            <th>Transect label n</th>\n",
    "            <!-- Add more headers as needed -->\n",
    "        </tr>\n",
    "        <tr>\n",
    "            <td>2019-03-03 20:43:11</td>\n",
    "            <td>Distance along transect (m)</td>\n",
    "            <td>...</td>\n",
    "            <td>...</td>\n",
    "            <td>...</td>\n",
    "            <!-- Add more data cells as needed -->\n",
    "        </tr>\n",
    "        <!-- Add more rows as needed -->\n",
    "    </table>\n",
    "</body>\n",
    "\n",
    "The distance along each transect is the distance between the start (landward end) of the transect and where the shoreline intersects it.\n",
    "\n",
    "*Note:* if you are only interested in shoreline contours and not transect intersections provide `just_extract_shoreline=True` in the `coastvisionRun.CoastVisionRun()` class initialization in 'Initialize CoastVision \"Run\" Class' below\n",
    "\n",
    "## 2.2 Reference Shoreline\n",
    "For quality control, a reference shoreline can be hand digitized. Then given `max_dist_from_sl_ref = max distance in meters` supplied to `coastvision.CoastVisionRun()` all extracted shoreline segments out of this range are discarded. \n",
    "*Note:* This is recommended but not neccesary.\n",
    "\n",
    "\n",
    "These should be saved in `user_inputs/<region>/<sitename>` as `<sitename>_transects.geojson` and `<sitename>_shoreline.geojson`. See <a href='https://github.com/Climate-Resilience-Collaborative/CoastVision/blob/1f50de7c3a477e864f28c5a5ab7c70a8e7016088/How_to_create_transect_and_sl_ref_files.md'>`How_to_create_transect_and_sl_ref_files.md`</a> for how to create these files.\n",
    "\n",
    "\n",
    "<hr>"
   ]
  },
  {
   "cell_type": "markdown",
   "id": "756aeb98",
   "metadata": {},
   "source": [
    "# 3. Initialize CoastVision \"Run\" Class"
   ]
  },
  {
   "cell_type": "code",
   "execution_count": 7,
   "id": "2fa6a8a7",
   "metadata": {},
   "outputs": [
    {
     "name": "stdout",
     "output_type": "stream",
     "text": [
      "There are 37 tiff images for site: waikiki\n"
     ]
    }
   ],
   "source": [
    "coastvision_run_class = coastvisionRun.CoastVisionRun(region=region, sitename=sitename, just_extract_shoreline=False, data_products=False)\n",
    "print(f'There are {len(coastvision_run_class)} tiff images for site: {sitename}')"
   ]
  },
  {
   "cell_type": "markdown",
   "id": "70d995a0",
   "metadata": {},
   "source": [
    "# 4. Image Co-registration\n",
    "<div style=\"display: flex; align-items: flex-start;\">\n",
    "    <div style=\"margin-right: 40px;\">\n",
    "        <p>Satellite images need to be accurately registered, meaning that they must align correctly with one another and with real-world coordinates. <a href=\"https://pypi.org/project/arosics/\">AROSICS</a> an open-source Python package is used to co-register images to reduce error caused by image missalignments. In the image below the right pane shows reduced image offsets after AROSICS co-registration. </p>\n",
    "    </div>\n",
    "    <div>\n",
    "        <img src=\"media/arosics_logo.png\" alt=\"Tidal Effect Example\" style=\"max-width: 100%; height: auto;\">\n",
    "    </div>\n",
    "</div>\n",
    "\n",
    "![Co-registration Example](media/co-registration.gif)\n",
    "\n",
    "**co-registration is optional!** \n",
    "<p> It makes a small improvement at reef-lined beaches, but the processing takes a long time. For large projects, leave for hours/overnight. For test example, 37 tiffs takes ~ 20min. <p>\n",
    "\n",
    "**Select a reference image** and copy the .tif file in into 'user_inputs/region/sitename' (without renaming it). Otherwise the function will select the first tiff file in our files as reference"
   ]
  },
  {
   "cell_type": "code",
   "execution_count": 14,
   "id": "cd1dcdbb",
   "metadata": {},
   "outputs": [
    {
     "name": "stdout",
     "output_type": "stream",
     "text": [
      "waikiki already coregistered. Skipping\n"
     ]
    }
   ],
   "source": [
    "import warnings\n",
    "warnings.filterwarnings(\"ignore\", category=RuntimeWarning) \n",
    "warnings.filterwarnings(\"ignore\", category=UserWarning) \n",
    "warnings.filterwarnings(\"ignore\", category=DeprecationWarning) \n",
    "coastvisionCoreg.coreg_site(region, sitename, grid_res=50, start=0)"
   ]
  },
  {
   "cell_type": "markdown",
   "id": "aea41131",
   "metadata": {},
   "source": [
    "# 5. Extract Shorelines and Compute Transect Intersections\n",
    "\n",
    "The following function runs through the downloaded satellite imagery and does the following:\n",
    "\n",
    "1. Segment image into land and water\n",
    "2. Extract shoreline\n",
    "3. Compute shoreline intersection with transects\n",
    "\n",
    "\n",
    "<img src=\"media/stages_plot.jpg\" alt=\"Stages Plot\">\n",
    "\n",
    "\n",
    "This function saves the `intersection_df` at the following path: `outputs/<region/<sitename>_transect_intersections.csv`"
   ]
  },
  {
   "cell_type": "code",
   "execution_count": 13,
   "id": "bae33972",
   "metadata": {},
   "outputs": [
    {
     "name": "stdout",
     "output_type": "stream",
     "text": [
      " waikiki 13.51 percent progress 20240107_201510_71_2423  contour outside reference\n",
      " waikiki 16.22 percent progress 20240206_202040_30_24c8  contour outside reference\n",
      " waikiki 32.43 percent progress 20240107_201746_75_24c8  contour outside reference\n",
      " waikiki 100.0 percent progress 20240114_210517_68_249a"
     ]
    },
    {
     "data": {
      "text/html": [
       "<div>\n",
       "<style scoped>\n",
       "    .dataframe tbody tr th:only-of-type {\n",
       "        vertical-align: middle;\n",
       "    }\n",
       "\n",
       "    .dataframe tbody tr th {\n",
       "        vertical-align: top;\n",
       "    }\n",
       "\n",
       "    .dataframe thead th {\n",
       "        text-align: right;\n",
       "    }\n",
       "</style>\n",
       "<table border=\"1\" class=\"dataframe\">\n",
       "  <thead>\n",
       "    <tr style=\"text-align: right;\">\n",
       "      <th></th>\n",
       "      <th>0</th>\n",
       "      <th>1</th>\n",
       "      <th>2</th>\n",
       "      <th>3</th>\n",
       "      <th>4</th>\n",
       "      <th>5</th>\n",
       "      <th>6</th>\n",
       "      <th>7</th>\n",
       "      <th>8</th>\n",
       "      <th>9</th>\n",
       "      <th>10</th>\n",
       "      <th>11</th>\n",
       "      <th>12</th>\n",
       "      <th>13</th>\n",
       "      <th>14</th>\n",
       "      <th>15</th>\n",
       "      <th>16</th>\n",
       "      <th>17</th>\n",
       "      <th>18</th>\n",
       "      <th>19</th>\n",
       "    </tr>\n",
       "  </thead>\n",
       "  <tbody>\n",
       "    <tr>\n",
       "      <th>2024-01-02 20:18:48.910</th>\n",
       "      <td>29.88325</td>\n",
       "      <td>39.886538</td>\n",
       "      <td>34.969001</td>\n",
       "      <td>30.318065</td>\n",
       "      <td>29.222256</td>\n",
       "      <td>29.744286</td>\n",
       "      <td>28.982809</td>\n",
       "      <td>28.580531</td>\n",
       "      <td>27.886243</td>\n",
       "      <td>27.880015</td>\n",
       "      <td>38.426597</td>\n",
       "      <td>59.549339</td>\n",
       "      <td>NaN</td>\n",
       "      <td>NaN</td>\n",
       "      <td>NaN</td>\n",
       "      <td>NaN</td>\n",
       "      <td>NaN</td>\n",
       "      <td>NaN</td>\n",
       "      <td>NaN</td>\n",
       "      <td>NaN</td>\n",
       "    </tr>\n",
       "    <tr>\n",
       "      <th>2024-01-02 20:18:51.140</th>\n",
       "      <td>29.88325</td>\n",
       "      <td>37.959480</td>\n",
       "      <td>32.471287</td>\n",
       "      <td>27.954208</td>\n",
       "      <td>25.880315</td>\n",
       "      <td>27.088535</td>\n",
       "      <td>24.934894</td>\n",
       "      <td>24.170971</td>\n",
       "      <td>23.245566</td>\n",
       "      <td>22.753368</td>\n",
       "      <td>36.358348</td>\n",
       "      <td>57.635324</td>\n",
       "      <td>54.203904</td>\n",
       "      <td>NaN</td>\n",
       "      <td>NaN</td>\n",
       "      <td>NaN</td>\n",
       "      <td>NaN</td>\n",
       "      <td>NaN</td>\n",
       "      <td>NaN</td>\n",
       "      <td>NaN</td>\n",
       "    </tr>\n",
       "  </tbody>\n",
       "</table>\n",
       "</div>"
      ],
      "text/plain": [
       "                                0          1          2          3          4  \\\n",
       "2024-01-02 20:18:48.910  29.88325  39.886538  34.969001  30.318065  29.222256   \n",
       "2024-01-02 20:18:51.140  29.88325  37.959480  32.471287  27.954208  25.880315   \n",
       "\n",
       "                                 5          6          7          8  \\\n",
       "2024-01-02 20:18:48.910  29.744286  28.982809  28.580531  27.886243   \n",
       "2024-01-02 20:18:51.140  27.088535  24.934894  24.170971  23.245566   \n",
       "\n",
       "                                 9         10         11         12  13  14  \\\n",
       "2024-01-02 20:18:48.910  27.880015  38.426597  59.549339        NaN NaN NaN   \n",
       "2024-01-02 20:18:51.140  22.753368  36.358348  57.635324  54.203904 NaN NaN   \n",
       "\n",
       "                         15  16  17  18  19  \n",
       "2024-01-02 20:18:48.910 NaN NaN NaN NaN NaN  \n",
       "2024-01-02 20:18:51.140 NaN NaN NaN NaN NaN  "
      ]
     },
     "metadata": {},
     "output_type": "display_data"
    },
    {
     "name": "stdout",
     "output_type": "stream",
     "text": [
      "(34, 20)\n"
     ]
    }
   ],
   "source": [
    "intersection_df = coastvision_run_class.run_shoreline_extraction()\n",
    "display(intersection_df.head(2))\n",
    "print(intersection_df.shape)"
   ]
  },
  {
   "cell_type": "markdown",
   "id": "2dcec630",
   "metadata": {},
   "source": [
    "# 6. Tidal Corrections\n",
    "\n",
    "## 6.1 Tidal Effects on Horizontal Shoreline Position\n",
    "<div style=\"display: flex; align-items: flex-start;\">\n",
    "    <div style=\"margin-right: 20px;\">\n",
    "        <p>CoastVision shoreline accuracy can be improved by correcting for horizontal shifts in shoreline position due to tidal changes. The example to the right from Cadíz, Spain shows how large horizontal changes from tidal shifts can be. Using tide level data, corrections can be made to where the shoreline position would be given mean sea level removing noise added by tidal fluctuations. <p>The refernece elevation is selected by the user and relative to Local Mean Sea Level. In most cases 0 m is a good start. This will be the elevation all shorelines are corrected back to. For example, if the tide height is 0.3 m above LMSL, assuming a linear beach slope, the shoreline will be pushed seaward back to LMSL</p>\n",
    "    </div>\n",
    "    <div>\n",
    "        <img src=\"media/tide_horizontal_shift_example.gif\" alt=\"Tidal Effect Example\" style=\"max-width: 100%; height: auto;\">\n",
    "    </div>\n",
    "</div>\n",
    "\n",
    "\n",
    "<img src=\"media\\tidal_horizontal_effect_figure.png\" alt=\"Tidal Effect Figure\">\n",
    "\n",
    "\n",
    "\n",
    "\n",
    "#### **Comlpete only one of the tidal corrections below** (if you do both, it will save the most recent tidal correction calculation)\n",
    "The tidal corrected dataframe is saved as here: `outputs/<region/<sitename>_intersections_tidally_corrected_<reference_elevation>m.csv`\n",
    "\n",
    "\n",
    "## 6.2 Tidal Corrections via Global Tide Model\n",
    "The Finite Element Solution (FES)2014 numerical model can be used to calculate ocean tides and their effect on sea level. These ocean tide height predictions can be used along with a beach slope estimate to compute the horizontal shoreline position correction. [CoastSat.slope](https://github.com/kvos/CoastSat.slope) provides [documentation](https://github.com/kvos/CoastSat.slope/blob/master/doc/FES2014_installation.md) on how to download and use this. \n",
    "<p> If you have FES2014 set up and downloaded, use the code below. Identify a coordinate ~1-2 miles offshores using for example google maps and input it in \"offshore_coord\". This will be the approximate location of your FES2014 model grid the tides are calculated in (avoid points close ot shore as the model can be sporadic in nearshore environments)"
   ]
  },
  {
   "cell_type": "code",
   "execution_count": null,
   "id": "39b442aa",
   "metadata": {},
   "outputs": [],
   "source": [
    "fes2014_path = os.path.join(os.getcwd(), 'aviso-fes-main', 'data', 'fes2014')\n",
    "offshore_coord = [-157.8497, 21.2569]\n",
    "\n",
    "tidal_corrected_df = coastvision_run_class.tidal_correction_FES2014(fes2014_path, offshore_coord, reference_elevation=0, slope=0.12)\n",
    "display(tidal_corrected_df.head(2))"
   ]
  },
  {
   "cell_type": "markdown",
   "id": "28f554a7",
   "metadata": {},
   "source": [
    "## 6.3 Tidal Corrections via Local Tide Gauge Data\n",
    "If local tide gauge data is avaible this can be used rather than FES predictions. point to a path with your tidegauge data. View the exmample tidegauge data for Honolulu for formatting\n",
    "\n"
   ]
  },
  {
   "cell_type": "code",
   "execution_count": null,
   "id": "12d019dc",
   "metadata": {},
   "outputs": [],
   "source": [
    "# load tide gauge csv\n",
    "tidegauge = pd.read_csv(os.path.join(os.getcwd(), 'user_inputs', region, sitename, 'honolulutidegauge.csv'), index_col=0, parse_dates = True)\n",
    "tidegauge.index.name = 'dates'\n",
    "\n",
    "# do tidal correction \n",
    "tidal_corrected_df = coastvisionTides.tidal_correction_tidegauge(intersection_df, tidegauge)\n",
    "display(tidal_corrected_df.head(2))"
   ]
  },
  {
   "cell_type": "markdown",
   "id": "8c7f62c0",
   "metadata": {},
   "source": [
    "# 7. QAQC\n",
    "There are many sources of error in satellite-derived shorelines, from faulty image classification or image mis-alignment to uncertinaty related to tides and wave swash. While the wealth of data (PlanetScope has near-daily revisit time) enables us to deduce clear shoreline change signals despite much of this noise, it is still important to remove outliers. Below median filtering is used to remove outliers that are not within the `limit` (in meters) of the median (`median - limit < x < median + limit`). This filtered transect intersection dataframe is saved `outputs/<region/<sitename>_QAQC_transect_interesections.csv`."
   ]
  },
  {
   "cell_type": "code",
   "execution_count": null,
   "id": "ebe1c11d",
   "metadata": {},
   "outputs": [],
   "source": [
    "QAQC_df = coastvision_run_class.intersection_QAQC(limit=30)\n",
    "display(QAQC_df.head(2))"
   ]
  },
  {
   "cell_type": "code",
   "execution_count": null,
   "id": "31c7493e",
   "metadata": {},
   "outputs": [],
   "source": []
  }
 ],
 "metadata": {
  "kernelspec": {
   "display_name": "Python 3 (ipykernel)",
   "language": "python",
   "name": "python3"
  },
  "language_info": {
   "codemirror_mode": {
    "name": "ipython",
    "version": 3
   },
   "file_extension": ".py",
   "mimetype": "text/x-python",
   "name": "python",
   "nbconvert_exporter": "python",
   "pygments_lexer": "ipython3",
   "version": "3.9.17"
  }
 },
 "nbformat": 4,
 "nbformat_minor": 5
}

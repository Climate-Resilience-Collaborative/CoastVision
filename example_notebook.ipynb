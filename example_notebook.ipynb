{
 "cells": [
  {
   "cell_type": "markdown",
   "id": "49653ffc",
   "metadata": {},
   "source": [
    "# CoastVision Example: Waikiki\n",
    "<div style=\"display: flex; align-items: flex-start;\">\n",
    "    <div style=\"margin-right: 40px;\">\n",
    "        <p>CoastVision is an open-source Python framework geared towards generating satellite-derived shorelines (SDS) in <a href='https://developers.planet.com/docs/data/planetscope/'>PlanetScope</a> imagery. The image the right is two CoastVision SDS superimposed over drone imagery from the same week. This notebook provides an end-to-end example for Waikiki Beach Hawaiʻi.</p>\n",
    "        <ol>\n",
    "            <li>Download PlanetScope imagery for a given area of interest (AOI) and timeframe</li>\n",
    "            <li>Image co-registration</li>\n",
    "            <li>Shoreline extraction</li>\n",
    "            <li>Tidal Correction</li>\n",
    "            <li>QAQC</li>\n",
    "        </ol>\n",
    "    </div>\n",
    "    <div>\n",
    "        <img src=\"media\\coastvision_shoreline_on_drone_hanaumapng.png\" alt=\"SDS superimposed on high-resolution drone imagery\" style=\"max-width: 100%; height: 100%;\">\n",
    "    </div>\n",
    "</div>\n",
    "\n",
    "\n",
    "# Import Libraries\n",
    "If you have not yet set up enviromment in conda using `coastvision.yml`\n",
    "```\n",
    "cd path/to/CoastVision\n",
    "conda env create -f coastvision.yml\n",
    "conda activate coastvision\n",
    "```"
   ]
  },
  {
   "cell_type": "code",
   "execution_count": 55,
   "id": "3dbf479e",
   "metadata": {},
   "outputs": [],
   "source": [
    "from coastvision import coastvisionRun\n",
    "from planetscopeAPI import PlanetScopeOrdersAPI\n",
    "from coastvision import setup\n",
    "\n",
    "from coastvision import coastvision\n",
    "from coastvision import coastvisionPlots"
   ]
  },
  {
   "cell_type": "markdown",
   "id": "b32cdbbc",
   "metadata": {},
   "source": [
    "# 1. Dowload PlanetScope Imagery"
   ]
  },
  {
   "cell_type": "code",
   "execution_count": null,
   "id": "18db7eb0",
   "metadata": {},
   "outputs": [],
   "source": [
    "# create AOI coords (this can be a poly gone with any number of points)\n",
    "coords = [\n",
    "    [-157.73757302038916,21.4064967434262],\n",
    "    [-157.74027668707618,21.404379123418543],\n",
    "    [-157.73611389868506,21.40058331266353],\n",
    "    [-157.72770249121436,21.397626507579627],\n",
    "    [-157.72611462347754,21.39910491759609],\n",
    "    [-157.7328952478672,21.40226147273139],\n",
    "    [-157.73757302038916,21.4064967434262]\n",
    "    ]\n",
    "\n",
    "setup.create_site_dict_json_for_API(\n",
    "    site_name='waikiki',\n",
    "    aoi=coords,\n",
    "    start_date=\"2024-01-01\",\n",
    "    end_date=\"2024-01-15\")\n",
    "\n",
    "setup.write_api_key_file(api_key='Your PlanetScope API Key') # this creates a text file that contains your API key and is referenced by PlaneScopeOrdersAPI"
   ]
  },
  {
   "cell_type": "code",
   "execution_count": null,
   "id": "92303adf",
   "metadata": {},
   "outputs": [],
   "source": [
    "import importlib\n",
    "importlib.reload(PlanetScopeOrdersAPI)\n",
    "API = PlanetScopeOrdersAPI.PlanetScopeAPIOrder(selectSites=False, printPolling=True) # initalizing the class variable\n",
    "API.get_all_data()"
   ]
  },
  {
   "cell_type": "markdown",
   "id": "48558afd",
   "metadata": {},
   "source": [
    "# 1. Initialize CoastVision \"Run\" Class"
   ]
  },
  {
   "cell_type": "code",
   "execution_count": 56,
   "id": "2fa6a8a7",
   "metadata": {},
   "outputs": [
    {
     "name": "stdout",
     "output_type": "stream",
     "text": [
      "20 transects have been loaded\n",
      "There are 9 tiff images for site: waikiki\n"
     ]
    }
   ],
   "source": [
    "region = 'waikiki'\n",
    "sitename = 'waikiki'\n",
    "coastvision_run_class = coastvisionRun.CoastVisionRun(region=region, sitename=sitename)\n",
    "print(f'There are {len(coastvision_run_class)} tiff images for site: {sitename}')\n"
   ]
  },
  {
   "cell_type": "markdown",
   "id": "70d995a0",
   "metadata": {},
   "source": [
    "# 2. Image Co-registration\n",
    "<div style=\"display: flex; align-items: flex-start;\">\n",
    "    <div style=\"margin-right: 40px;\">\n",
    "        <p>Satellite images need to be accurately registered, meaning that they must align correctly with one another and with real-world coordinates. <a href=\"https://pypi.org/project/arosics/\">AROSICS</a> and open-source Python package is used to co-register images to reduce error cause image missalignments. In the image below the right pane shows reduced image offsets after AROSICS co-registration. </p>\n",
    "    </div>\n",
    "    <div>\n",
    "        <img src=\"media/arosics_logo.png\" alt=\"Tidal Effect Example\" style=\"max-width: 100%; height: auto;\">\n",
    "    </div>\n",
    "</div>\n",
    "\n",
    "![Co-registration Example](media/co-registration.gif)"
   ]
  },
  {
   "cell_type": "code",
   "execution_count": null,
   "id": "cd1dcdbb",
   "metadata": {},
   "outputs": [],
   "source": []
  },
  {
   "cell_type": "markdown",
   "id": "aea41131",
   "metadata": {},
   "source": [
    "# 3. Extract Shorelines and Compute Transect Intersections\n",
    "\n",
    "The following function runs through downloaded satellite doing the following:\n",
    "\n",
    "1. Segment image into land and water\n",
    "2. Extract shoreline\n",
    "3. Compute shoreline intersection with transects\n",
    "\n",
    "![Stages Plot](media\\stages_plot.jpg)\n",
    "\n",
    "\n",
    "This function saves the `intersection_df` at the following path: `outputs/<region/<sitename>_transect_intersections.csv`"
   ]
  },
  {
   "cell_type": "code",
   "execution_count": 57,
   "id": "bae33972",
   "metadata": {},
   "outputs": [
    {
     "name": "stdout",
     "output_type": "stream",
     "text": [
      "(279, 320)\n",
      " waikiki 11.11 percent progress 20190326_203751_0e3a"
     ]
    },
    {
     "name": "stderr",
     "output_type": "stream",
     "text": [
      "c:\\Users\\Joel Nic\\Documents\\college\\research\\CRC\\CoastVision\\coastvision\\classifier\\pixelclassifier.py:26: RuntimeWarning: invalid value encountered in divide\n",
      "  return np.divide(b1 - b2, denominator)\n"
     ]
    },
    {
     "name": "stdout",
     "output_type": "stream",
     "text": [
      " waikiki 33.33 percent progress 20190321_204020_1012"
     ]
    },
    {
     "name": "stderr",
     "output_type": "stream",
     "text": [
      "c:\\Users\\Joel Nic\\Documents\\college\\research\\CRC\\CoastVision\\coastvision\\classifier\\pixelclassifier.py:26: RuntimeWarning: invalid value encountered in divide\n",
      "  return np.divide(b1 - b2, denominator)\n"
     ]
    },
    {
     "name": "stdout",
     "output_type": "stream",
     "text": [
      " waikiki 44.44 percent progress 20190315_204321_0f22"
     ]
    },
    {
     "name": "stderr",
     "output_type": "stream",
     "text": [
      "c:\\Users\\Joel Nic\\Documents\\college\\research\\CRC\\CoastVision\\coastvision\\classifier\\pixelclassifier.py:26: RuntimeWarning: invalid value encountered in divide\n",
      "  return np.divide(b1 - b2, denominator)\n"
     ]
    },
    {
     "name": "stdout",
     "output_type": "stream",
     "text": [
      " waikiki 55.56 percent progress 20190313_201705_1052"
     ]
    },
    {
     "name": "stderr",
     "output_type": "stream",
     "text": [
      "c:\\Users\\Joel Nic\\Documents\\college\\research\\CRC\\CoastVision\\coastvision\\classifier\\pixelclassifier.py:26: RuntimeWarning: invalid value encountered in divide\n",
      "  return np.divide(b1 - b2, denominator)\n"
     ]
    },
    {
     "name": "stdout",
     "output_type": "stream",
     "text": [
      " waikiki 66.67 percent progress 20190305_204257_1013"
     ]
    },
    {
     "name": "stderr",
     "output_type": "stream",
     "text": [
      "c:\\Users\\Joel Nic\\Documents\\college\\research\\CRC\\CoastVision\\coastvision\\classifier\\pixelclassifier.py:26: RuntimeWarning: invalid value encountered in divide\n",
      "  return np.divide(b1 - b2, denominator)\n"
     ]
    },
    {
     "name": "stdout",
     "output_type": "stream",
     "text": [
      " waikiki 77.78 percent progress 20190303_204311_100c"
     ]
    },
    {
     "name": "stderr",
     "output_type": "stream",
     "text": [
      "c:\\Users\\Joel Nic\\Documents\\college\\research\\CRC\\CoastVision\\coastvision\\classifier\\pixelclassifier.py:26: RuntimeWarning: invalid value encountered in divide\n",
      "  return np.divide(b1 - b2, denominator)\n",
      "c:\\Users\\Joel Nic\\Documents\\college\\research\\CRC\\CoastVision\\coastvision\\classifier\\pixelclassifier.py:26: RuntimeWarning: invalid value encountered in divide\n",
      "  return np.divide(b1 - b2, denominator)\n"
     ]
    },
    {
     "name": "stdout",
     "output_type": "stream",
     "text": [
      " waikiki 100.0 percent progress 20190312_204218_100e"
     ]
    },
    {
     "name": "stderr",
     "output_type": "stream",
     "text": [
      "c:\\Users\\Joel Nic\\Documents\\college\\research\\CRC\\CoastVision\\coastvision\\classifier\\pixelclassifier.py:26: RuntimeWarning: invalid value encountered in divide\n",
      "  return np.divide(b1 - b2, denominator)\n",
      "c:\\Users\\Joel Nic\\Documents\\college\\research\\CRC\\CoastVision\\coastvision\\classifier\\pixelclassifier.py:26: RuntimeWarning: invalid value encountered in divide\n",
      "  return np.divide(b1 - b2, denominator)\n"
     ]
    },
    {
     "data": {
      "text/html": [
       "<div>\n",
       "<style scoped>\n",
       "    .dataframe tbody tr th:only-of-type {\n",
       "        vertical-align: middle;\n",
       "    }\n",
       "\n",
       "    .dataframe tbody tr th {\n",
       "        vertical-align: top;\n",
       "    }\n",
       "\n",
       "    .dataframe thead th {\n",
       "        text-align: right;\n",
       "    }\n",
       "</style>\n",
       "<table border=\"1\" class=\"dataframe\">\n",
       "  <thead>\n",
       "    <tr style=\"text-align: right;\">\n",
       "      <th></th>\n",
       "      <th>0</th>\n",
       "      <th>1</th>\n",
       "      <th>2</th>\n",
       "      <th>3</th>\n",
       "      <th>4</th>\n",
       "      <th>5</th>\n",
       "      <th>6</th>\n",
       "      <th>7</th>\n",
       "      <th>8</th>\n",
       "      <th>9</th>\n",
       "      <th>10</th>\n",
       "      <th>11</th>\n",
       "      <th>12</th>\n",
       "      <th>13</th>\n",
       "      <th>14</th>\n",
       "      <th>15</th>\n",
       "      <th>16</th>\n",
       "      <th>17</th>\n",
       "      <th>18</th>\n",
       "      <th>19</th>\n",
       "    </tr>\n",
       "  </thead>\n",
       "  <tbody>\n",
       "    <tr>\n",
       "      <th>2019-03-03 20:43:11</th>\n",
       "      <td>35.248765</td>\n",
       "      <td>43.554640</td>\n",
       "      <td>37.134050</td>\n",
       "      <td>29.906336</td>\n",
       "      <td>25.190348</td>\n",
       "      <td>23.007930</td>\n",
       "      <td>21.727022</td>\n",
       "      <td>22.460928</td>\n",
       "      <td>25.016700</td>\n",
       "      <td>30.195386</td>\n",
       "      <td>38.678725</td>\n",
       "      <td>47.750127</td>\n",
       "      <td>38.133109</td>\n",
       "      <td>38.324497</td>\n",
       "      <td>46.340477</td>\n",
       "      <td>46.636668</td>\n",
       "      <td>38.990545</td>\n",
       "      <td>31.459774</td>\n",
       "      <td>27.740007</td>\n",
       "      <td>21.201033</td>\n",
       "    </tr>\n",
       "    <tr>\n",
       "      <th>2019-03-04 20:18:35</th>\n",
       "      <td>35.248765</td>\n",
       "      <td>40.790862</td>\n",
       "      <td>34.449034</td>\n",
       "      <td>28.044530</td>\n",
       "      <td>23.302366</td>\n",
       "      <td>21.123771</td>\n",
       "      <td>21.814440</td>\n",
       "      <td>22.287102</td>\n",
       "      <td>24.378613</td>\n",
       "      <td>28.753907</td>\n",
       "      <td>37.327115</td>\n",
       "      <td>47.012427</td>\n",
       "      <td>37.529133</td>\n",
       "      <td>37.918435</td>\n",
       "      <td>46.313954</td>\n",
       "      <td>47.061951</td>\n",
       "      <td>39.414358</td>\n",
       "      <td>31.732914</td>\n",
       "      <td>26.895768</td>\n",
       "      <td>20.145623</td>\n",
       "    </tr>\n",
       "  </tbody>\n",
       "</table>\n",
       "</div>"
      ],
      "text/plain": [
       "                             0          1          2          3          4  \\\n",
       "2019-03-03 20:43:11  35.248765  43.554640  37.134050  29.906336  25.190348   \n",
       "2019-03-04 20:18:35  35.248765  40.790862  34.449034  28.044530  23.302366   \n",
       "\n",
       "                             5          6          7          8          9  \\\n",
       "2019-03-03 20:43:11  23.007930  21.727022  22.460928  25.016700  30.195386   \n",
       "2019-03-04 20:18:35  21.123771  21.814440  22.287102  24.378613  28.753907   \n",
       "\n",
       "                            10         11         12         13         14  \\\n",
       "2019-03-03 20:43:11  38.678725  47.750127  38.133109  38.324497  46.340477   \n",
       "2019-03-04 20:18:35  37.327115  47.012427  37.529133  37.918435  46.313954   \n",
       "\n",
       "                            15         16         17         18         19  \n",
       "2019-03-03 20:43:11  46.636668  38.990545  31.459774  27.740007  21.201033  \n",
       "2019-03-04 20:18:35  47.061951  39.414358  31.732914  26.895768  20.145623  "
      ]
     },
     "metadata": {},
     "output_type": "display_data"
    }
   ],
   "source": [
    "importlib.reload(coastvision)\n",
    "importlib.reload(coastvisionPlots)\n",
    "intersection_df = coastvision_run_class.run_shoreline_extraction()\n",
    "display(intersection_df.head(2))"
   ]
  },
  {
   "cell_type": "markdown",
   "id": "2dcec630",
   "metadata": {},
   "source": [
    "# 4. Tidal Corrections\n",
    "\n",
    "\n",
    "## 4.1 Tidal Effects on Horizontal Shoreline Position\n",
    "<div style=\"display: flex; align-items: flex-start;\">\n",
    "    <div style=\"margin-right: 40px;\">\n",
    "        <p>CoastVision shoreline accuracy can be improved by correcting for horizontal shifts in shoreline position due to tidal changes. The example to the right from Cadíz, Spain shows how large horizontal changes from tidal shifts can be. Using tide level data corrections can be made to where the shoreline position would be given mean sea level removing noise added by tidal fluctuations</p>\n",
    "    </div>\n",
    "    <div>\n",
    "        <img src=\"media/tide_horizontal_shift_example.gif\" alt=\"Tidal Effect Example\" style=\"max-width: 100%; height: auto;\">\n",
    "    </div>\n",
    "</div>\n",
    "\n",
    "![Tidal Effect Figure](media\\tidal_horizontal_effect_figure.png)\n",
    "\n",
    "## 4.2 Tidal Corrections via Global Tide Model\n",
    "The Finite Element Solution (FES) numerical model can be used to calculate ocean tides and their effect on sea level. These ocean tide height predictions can be used along with a beach slope estimate to compute the horizontal shoreline position correction. [CoastSat.slope](https://github.com/kvos/CoastSat.slope) provides [documentation](https://github.com/kvos/CoastSat.slope/blob/master/doc/FES2014_installation.md) on how to download and use this. \n",
    "\n",
    "## 4.3 Tidal Corrections via Local Tide Gauge Data\n",
    "If local tide gauge data is avaible this can be used rather than FES predictions.\n",
    "\n",
    "\n",
    "The tidal corrected dataframe is saved as here: `outputs/<region/<sitename>_intersections_tidally_corrected_<reference_elevation>m.csv`\n"
   ]
  },
  {
   "cell_type": "code",
   "execution_count": null,
   "id": "ec827408",
   "metadata": {},
   "outputs": [],
   "source": [
    "# NOTE: EXPLAIN WHAT REFERENCE ELEVATION IS\n",
    "# tidal_corrected_df = coastvision_run_class.tidal_correction(reference_elevation=0)\n",
    "# display(tidal_corrected_df)"
   ]
  },
  {
   "cell_type": "markdown",
   "id": "8c7f62c0",
   "metadata": {},
   "source": [
    "# 5. QAQC\n",
    "There are many sources of error in satellite-derived shorelines from faulty image classification to image alignment to tidal and wave runup noise. While much of this noise is cancelled out by the wealth of data (PlanetScope has near-daily revisit time) it is still important to remove outliers. Below median filtering is used to remove outliers that are not within the `limit` (in meters) of the median (`median - limit < x < median + limit`). This filtered transect intersection dataframe is saved `outputs/<region/<sitename>_QAQC_transect_interesections.csv`."
   ]
  },
  {
   "cell_type": "code",
   "execution_count": 58,
   "id": "ebe1c11d",
   "metadata": {},
   "outputs": [
    {
     "name": "stdout",
     "output_type": "stream",
     "text": [
      "before QAQC: shape (9, 20) number of nans 19\n",
      "after QAQC: shape (9, 20) number of nans 35\n"
     ]
    },
    {
     "data": {
      "text/html": [
       "<div>\n",
       "<style scoped>\n",
       "    .dataframe tbody tr th:only-of-type {\n",
       "        vertical-align: middle;\n",
       "    }\n",
       "\n",
       "    .dataframe tbody tr th {\n",
       "        vertical-align: top;\n",
       "    }\n",
       "\n",
       "    .dataframe thead th {\n",
       "        text-align: right;\n",
       "    }\n",
       "</style>\n",
       "<table border=\"1\" class=\"dataframe\">\n",
       "  <thead>\n",
       "    <tr style=\"text-align: right;\">\n",
       "      <th></th>\n",
       "      <th>0</th>\n",
       "      <th>1</th>\n",
       "      <th>2</th>\n",
       "      <th>3</th>\n",
       "      <th>4</th>\n",
       "      <th>5</th>\n",
       "      <th>6</th>\n",
       "      <th>7</th>\n",
       "      <th>8</th>\n",
       "      <th>9</th>\n",
       "      <th>10</th>\n",
       "      <th>11</th>\n",
       "      <th>12</th>\n",
       "      <th>13</th>\n",
       "      <th>14</th>\n",
       "      <th>15</th>\n",
       "      <th>16</th>\n",
       "      <th>17</th>\n",
       "      <th>18</th>\n",
       "      <th>19</th>\n",
       "    </tr>\n",
       "  </thead>\n",
       "  <tbody>\n",
       "    <tr>\n",
       "      <th>2019-03-03 20:43:11</th>\n",
       "      <td>35.248765</td>\n",
       "      <td>43.554640</td>\n",
       "      <td>37.134050</td>\n",
       "      <td>29.906336</td>\n",
       "      <td>25.190348</td>\n",
       "      <td>23.007930</td>\n",
       "      <td>21.727022</td>\n",
       "      <td>22.460928</td>\n",
       "      <td>25.016700</td>\n",
       "      <td>30.195386</td>\n",
       "      <td>38.678725</td>\n",
       "      <td>47.750127</td>\n",
       "      <td>38.133109</td>\n",
       "      <td>38.324497</td>\n",
       "      <td>46.340477</td>\n",
       "      <td>46.636668</td>\n",
       "      <td>38.990545</td>\n",
       "      <td>31.459774</td>\n",
       "      <td>27.740007</td>\n",
       "      <td>21.201033</td>\n",
       "    </tr>\n",
       "    <tr>\n",
       "      <th>2019-03-04 20:18:35</th>\n",
       "      <td>35.248765</td>\n",
       "      <td>40.790862</td>\n",
       "      <td>34.449034</td>\n",
       "      <td>28.044530</td>\n",
       "      <td>23.302366</td>\n",
       "      <td>21.123771</td>\n",
       "      <td>21.814440</td>\n",
       "      <td>22.287102</td>\n",
       "      <td>24.378613</td>\n",
       "      <td>28.753907</td>\n",
       "      <td>37.327115</td>\n",
       "      <td>47.012427</td>\n",
       "      <td>37.529133</td>\n",
       "      <td>37.918435</td>\n",
       "      <td>46.313954</td>\n",
       "      <td>47.061951</td>\n",
       "      <td>39.414358</td>\n",
       "      <td>31.732914</td>\n",
       "      <td>26.895768</td>\n",
       "      <td>20.145623</td>\n",
       "    </tr>\n",
       "  </tbody>\n",
       "</table>\n",
       "</div>"
      ],
      "text/plain": [
       "                             0          1          2          3          4  \\\n",
       "2019-03-03 20:43:11  35.248765  43.554640  37.134050  29.906336  25.190348   \n",
       "2019-03-04 20:18:35  35.248765  40.790862  34.449034  28.044530  23.302366   \n",
       "\n",
       "                             5          6          7          8          9  \\\n",
       "2019-03-03 20:43:11  23.007930  21.727022  22.460928  25.016700  30.195386   \n",
       "2019-03-04 20:18:35  21.123771  21.814440  22.287102  24.378613  28.753907   \n",
       "\n",
       "                            10         11         12         13         14  \\\n",
       "2019-03-03 20:43:11  38.678725  47.750127  38.133109  38.324497  46.340477   \n",
       "2019-03-04 20:18:35  37.327115  47.012427  37.529133  37.918435  46.313954   \n",
       "\n",
       "                            15         16         17         18         19  \n",
       "2019-03-03 20:43:11  46.636668  38.990545  31.459774  27.740007  21.201033  \n",
       "2019-03-04 20:18:35  47.061951  39.414358  31.732914  26.895768  20.145623  "
      ]
     },
     "metadata": {},
     "output_type": "display_data"
    }
   ],
   "source": [
    "QAQC_df = coastvision_run_class.intersection_QAQC(limit=10)\n",
    "display(QAQC_df.head(2))"
   ]
  }
 ],
 "metadata": {
  "kernelspec": {
   "display_name": "Python 3 (ipykernel)",
   "language": "python",
   "name": "python3"
  },
  "language_info": {
   "codemirror_mode": {
    "name": "ipython",
    "version": 3
   },
   "file_extension": ".py",
   "mimetype": "text/x-python",
   "name": "python",
   "nbconvert_exporter": "python",
   "pygments_lexer": "ipython3",
   "version": "3.9.17"
  }
 },
 "nbformat": 4,
 "nbformat_minor": 5
}

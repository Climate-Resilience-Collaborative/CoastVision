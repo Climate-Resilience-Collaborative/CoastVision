{
 "cells": [
  {
   "cell_type": "code",
   "execution_count": 1,
   "id": "25540564",
   "metadata": {},
   "outputs": [],
   "source": [
    "from planetscopeAPI import PlanetScopeOrdersAPI\n",
    "from coastvision import setup"
   ]
  },
  {
   "cell_type": "markdown",
   "id": "3ef8f583",
   "metadata": {},
   "source": [
    "# 1. Create site dictionary and API key file"
   ]
  },
  {
   "cell_type": "code",
   "execution_count": 7,
   "id": "932e6945",
   "metadata": {},
   "outputs": [],
   "source": [
    "# create AOI coords (this can be a poly gone with any number of points)\n",
    "coords = [\n",
    "    [-157.73757302038916,21.4064967434262],\n",
    "    [-157.74027668707618,21.404379123418543],\n",
    "    [-157.73611389868506,21.40058331266353],\n",
    "    [-157.72770249121436,21.397626507579627],\n",
    "    [-157.72611462347754,21.39910491759609],\n",
    "    [-157.7328952478672,21.40226147273139],\n",
    "    [-157.73757302038916,21.4064967434262]\n",
    "    ]\n",
    "\n",
    "setup.create_site_dict_json_for_API(\n",
    "    site_name='waikiki',\n",
    "    aoi=coords,\n",
    "    start_date=\"2024-01-01\",\n",
    "    end_date=\"2024-01-15\")\n",
    "\n",
    "setup.write_api_key_file(api_key='Your PlanetScope API Key') # this creates a text file that contains your API key and is referenced by PlaneScopeOrdersAPI"
   ]
  },
  {
   "cell_type": "markdown",
   "id": "34831f87",
   "metadata": {},
   "source": [
    "# 2. Run PlanetScope API \n",
    "The following cell runs the API on all site dictionaries in `sites\\`"
   ]
  },
  {
   "cell_type": "code",
   "execution_count": 6,
   "id": "2b1a7bed",
   "metadata": {},
   "outputs": [
    {
     "name": "stdout",
     "output_type": "stream",
     "text": [
      "site name: kailua\n",
      "{\"name\": \"kailua\", \"products\": [{\"item_ids\": [\"20240114_210352_09_248f\", \"20240111_211433_19_24e1\", \"20240111_201953_51_24cc\", \"20240107_201508_73_2423\", \"20240107_201510_71_2423\", \"20240107_201742_32_24c8\", \"20240107_201744_53_24c8\", \"20240106_210139_54_247c\", \"20240106_210137_55_247c\", \"20240102_201846_68_24cc\", \"20240102_201848_91_24cc\"], \"item_type\": \"PSScene\", \"product_bundle\": \"analytic_udm2\"}], \"tools\": [{\"clip\": {\"aoi\": {\"type\": \"Polygon\", \"coordinates\": [[[-157.73757302038916, 21.4064967434262], [-157.74027668707618, 21.404379123418543], [-157.73611389868506, 21.40058331266353], [-157.72770249121436, 21.397626507579627], [-157.72611462347754, 21.39910491759609], [-157.7328952478672, 21.40226147273139], [-157.73757302038916, 21.4064967434262]]]}}}, {\"toar\": {\"scale_factor\": 10000}}]}\n",
      "<Response [400]>\n",
      "{\"name\": \"kailua\", \"products\": [{\"item_ids\": [], \"item_type\": \"PSScene\", \"product_bundle\": \"analytic_udm2\"}], \"tools\": [{\"clip\": {\"aoi\": {\"type\": \"Polygon\", \"coordinates\": [[[-157.73757302038916, 21.4064967434262], [-157.74027668707618, 21.404379123418543], [-157.73611389868506, 21.40058331266353], [-157.72770249121436, 21.397626507579627], [-157.72611462347754, 21.39910491759609], [-157.7328952478672, 21.40226147273139], [-157.73757302038916, 21.4064967434262]]]}}}, {\"toar\": {\"scale_factor\": 10000}}]}\n",
      "<Response [400]>\n"
     ]
    },
    {
     "ename": "Exception",
     "evalue": "b'{\"field\":{\"Products\":[{\"message\":\"ItemIDs is empty or missing from Product\"}]},\"general\":[{\"message\":\"Unable to accept order\"}]}\\n'",
     "output_type": "error",
     "traceback": [
      "\u001b[1;31m---------------------------------------------------------------------------\u001b[0m",
      "\u001b[1;31mException\u001b[0m                                 Traceback (most recent call last)",
      "Cell \u001b[1;32mIn[6], line 4\u001b[0m\n\u001b[0;32m      2\u001b[0m importlib\u001b[38;5;241m.\u001b[39mreload(PlanetScopeOrdersAPI)\n\u001b[0;32m      3\u001b[0m API \u001b[38;5;241m=\u001b[39m PlanetScopeOrdersAPI\u001b[38;5;241m.\u001b[39mPlanetScopeAPIOrder(selectSites\u001b[38;5;241m=\u001b[39m\u001b[38;5;28;01mFalse\u001b[39;00m, printPolling\u001b[38;5;241m=\u001b[39m\u001b[38;5;28;01mTrue\u001b[39;00m) \u001b[38;5;66;03m# initalizing the class variable\u001b[39;00m\n\u001b[1;32m----> 4\u001b[0m \u001b[43mAPI\u001b[49m\u001b[38;5;241;43m.\u001b[39;49m\u001b[43mget_all_data\u001b[49m\u001b[43m(\u001b[49m\u001b[43m)\u001b[49m\n",
      "File \u001b[1;32mc:\\Users\\Joel Nic\\Documents\\college\\research\\CRC\\CoastVision\\planetscopeAPI\\PlanetScopeOrdersAPI.py:134\u001b[0m, in \u001b[0;36mPlanetScopeAPIOrder.get_all_data\u001b[1;34m(self)\u001b[0m\n\u001b[0;32m    130\u001b[0m \u001b[38;5;28;01mfor\u001b[39;00m region, regionDict \u001b[38;5;129;01min\u001b[39;00m \u001b[38;5;28mself\u001b[39m\u001b[38;5;241m.\u001b[39mREGION_DICTS\u001b[38;5;241m.\u001b[39mitems():\n\u001b[0;32m    131\u001b[0m     \u001b[38;5;66;03m# the first variable is a throwaway variable because we dont need it but it is the regionName\u001b[39;00m\n\u001b[0;32m    132\u001b[0m     \u001b[38;5;66;03m# each region represents a collection sites (beaches) for example O'ahu would be a region with beaches on O'ahu\u001b[39;00m\n\u001b[0;32m    133\u001b[0m     \u001b[38;5;28;01mfor\u001b[39;00m siteName, siteDict \u001b[38;5;129;01min\u001b[39;00m regionDict\u001b[38;5;241m.\u001b[39mitems():\n\u001b[1;32m--> 134\u001b[0m         \u001b[38;5;28;43mself\u001b[39;49m\u001b[38;5;241;43m.\u001b[39;49m\u001b[43mget_one_site_data\u001b[49m\u001b[43m(\u001b[49m\u001b[43msiteName\u001b[49m\u001b[43m,\u001b[49m\u001b[43m \u001b[49m\u001b[43msiteDict\u001b[49m\u001b[43m,\u001b[49m\u001b[43m \u001b[49m\u001b[43mregion\u001b[49m\u001b[43m)\u001b[49m\n",
      "File \u001b[1;32mc:\\Users\\Joel Nic\\Documents\\college\\research\\CRC\\CoastVision\\planetscopeAPI\\PlanetScopeOrdersAPI.py:221\u001b[0m, in \u001b[0;36mPlanetScopeAPIOrder.get_one_site_data\u001b[1;34m(self, siteName, siteDict, region)\u001b[0m\n\u001b[0;32m    218\u001b[0m products \u001b[38;5;241m=\u001b[39m \u001b[38;5;28mself\u001b[39m\u001b[38;5;241m.\u001b[39mbuild_clip_request_dict(siteDict, siteName)\n\u001b[0;32m    219\u001b[0m \u001b[38;5;66;03m# print(products.keys())\u001b[39;00m\n\u001b[1;32m--> 221\u001b[0m \u001b[38;5;28;43mself\u001b[39;49m\u001b[38;5;241;43m.\u001b[39;49m\u001b[43mget_one_site_data_from_products\u001b[49m\u001b[43m(\u001b[49m\u001b[43msiteName\u001b[49m\u001b[43m,\u001b[49m\u001b[43m \u001b[49m\u001b[43msiteDict\u001b[49m\u001b[43m,\u001b[49m\u001b[43m \u001b[49m\u001b[43mregion\u001b[49m\u001b[43m,\u001b[49m\u001b[43m \u001b[49m\u001b[43mproducts\u001b[49m\u001b[43m)\u001b[49m\n",
      "File \u001b[1;32mc:\\Users\\Joel Nic\\Documents\\college\\research\\CRC\\CoastVision\\planetscopeAPI\\PlanetScopeOrdersAPI.py:266\u001b[0m, in \u001b[0;36mPlanetScopeAPIOrder.get_one_site_data_from_products\u001b[1;34m(self, siteName, siteDict, region, products, max_retries)\u001b[0m\n\u001b[0;32m    263\u001b[0m                     \u001b[38;5;28;01mreturn\u001b[39;00m \u001b[38;5;28mstr\u001b[39m(e)\n\u001b[0;32m    265\u001b[0m \u001b[38;5;28;01melse\u001b[39;00m:\n\u001b[1;32m--> 266\u001b[0m     request_url \u001b[38;5;241m=\u001b[39m \u001b[38;5;28;43mself\u001b[39;49m\u001b[38;5;241;43m.\u001b[39;49m\u001b[43mplace_order\u001b[49m\u001b[43m(\u001b[49m\u001b[43mproducts\u001b[49m\u001b[43m)\u001b[49m\n\u001b[0;32m    267\u001b[0m     retry_count \u001b[38;5;241m=\u001b[39m \u001b[38;5;241m0\u001b[39m\n\u001b[0;32m    268\u001b[0m     \u001b[38;5;28;01mwhile\u001b[39;00m retry_count \u001b[38;5;241m<\u001b[39m max_retries:\n",
      "File \u001b[1;32mc:\\Users\\Joel Nic\\Documents\\college\\research\\CRC\\CoastVision\\planetscopeAPI\\PlanetScopeOrdersAPI.py:471\u001b[0m, in \u001b[0;36mPlanetScopeAPIOrder.place_order\u001b[1;34m(self, request)\u001b[0m\n\u001b[0;32m    469\u001b[0m     request[\u001b[38;5;124m'\u001b[39m\u001b[38;5;124mproducts\u001b[39m\u001b[38;5;124m'\u001b[39m][\u001b[38;5;241m0\u001b[39m][\u001b[38;5;124m'\u001b[39m\u001b[38;5;124mitem_ids\u001b[39m\u001b[38;5;124m'\u001b[39m] \u001b[38;5;241m=\u001b[39m currItemIds\n\u001b[0;32m    470\u001b[0m     \u001b[38;5;66;03m# recursive call next line\u001b[39;00m\n\u001b[1;32m--> 471\u001b[0m     \u001b[38;5;28;01mreturn\u001b[39;00m(\u001b[38;5;28;43mself\u001b[39;49m\u001b[38;5;241;43m.\u001b[39;49m\u001b[43mplace_order\u001b[49m\u001b[43m(\u001b[49m\u001b[43mrequest\u001b[49m\u001b[43m)\u001b[49m) \u001b[38;5;66;03m# this calls self.place_order again but this time with out the invalid item ids\u001b[39;00m\n\u001b[0;32m    472\u001b[0m \u001b[38;5;66;03m# This only will run if the conditional above is false (because of the return statement)\u001b[39;00m\n\u001b[0;32m    473\u001b[0m \u001b[38;5;28;01mraise\u001b[39;00m \u001b[38;5;167;01mException\u001b[39;00m(response\u001b[38;5;241m.\u001b[39mcontent)\n",
      "File \u001b[1;32mc:\\Users\\Joel Nic\\Documents\\college\\research\\CRC\\CoastVision\\planetscopeAPI\\PlanetScopeOrdersAPI.py:473\u001b[0m, in \u001b[0;36mPlanetScopeAPIOrder.place_order\u001b[1;34m(self, request)\u001b[0m\n\u001b[0;32m    471\u001b[0m         \u001b[38;5;28;01mreturn\u001b[39;00m(\u001b[38;5;28mself\u001b[39m\u001b[38;5;241m.\u001b[39mplace_order(request)) \u001b[38;5;66;03m# this calls self.place_order again but this time with out the invalid item ids\u001b[39;00m\n\u001b[0;32m    472\u001b[0m     \u001b[38;5;66;03m# This only will run if the conditional above is false (because of the return statement)\u001b[39;00m\n\u001b[1;32m--> 473\u001b[0m     \u001b[38;5;28;01mraise\u001b[39;00m \u001b[38;5;167;01mException\u001b[39;00m(response\u001b[38;5;241m.\u001b[39mcontent)\n\u001b[0;32m    475\u001b[0m order_id \u001b[38;5;241m=\u001b[39m response\u001b[38;5;241m.\u001b[39mjson()[\u001b[38;5;124m'\u001b[39m\u001b[38;5;124mid\u001b[39m\u001b[38;5;124m'\u001b[39m]\n\u001b[0;32m    476\u001b[0m order_url \u001b[38;5;241m=\u001b[39m \u001b[38;5;28mself\u001b[39m\u001b[38;5;241m.\u001b[39mORDERS_URL \u001b[38;5;241m+\u001b[39m \u001b[38;5;124m'\u001b[39m\u001b[38;5;124m/\u001b[39m\u001b[38;5;124m'\u001b[39m \u001b[38;5;241m+\u001b[39m order_id\n",
      "\u001b[1;31mException\u001b[0m: b'{\"field\":{\"Products\":[{\"message\":\"ItemIDs is empty or missing from Product\"}]},\"general\":[{\"message\":\"Unable to accept order\"}]}\\n'"
     ]
    }
   ],
   "source": [
    "import importlib\n",
    "importlib.reload(PlanetScopeOrdersAPI)\n",
    "API = PlanetScopeOrdersAPI.PlanetScopeAPIOrder(selectSites=False, printPolling=True) # initalizing the class variable\n",
    "API.get_all_data()"
   ]
  },
  {
   "cell_type": "markdown",
   "id": "dbd95610",
   "metadata": {},
   "source": [
    "3. "
   ]
  }
 ],
 "metadata": {
  "kernelspec": {
   "display_name": "Python 3 (ipykernel)",
   "language": "python",
   "name": "python3"
  },
  "language_info": {
   "codemirror_mode": {
    "name": "ipython",
    "version": 3
   },
   "file_extension": ".py",
   "mimetype": "text/x-python",
   "name": "python",
   "nbconvert_exporter": "python",
   "pygments_lexer": "ipython3",
   "version": "3.9.17"
  }
 },
 "nbformat": 4,
 "nbformat_minor": 5
}

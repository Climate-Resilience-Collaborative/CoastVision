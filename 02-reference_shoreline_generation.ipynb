{
 "cells": [
  {
   "cell_type": "code",
   "execution_count": null,
   "id": "008539c3",
   "metadata": {},
   "outputs": [],
   "source": [
    "import os\n",
    "import matplotlib\n",
    "import matplotlib.pyplot as plt\n",
    "import PIL\n",
    "from PIL import Image                # working with images\n",
    "import shutil\n",
    "\n",
    "\n",
    "# coastvision\n",
    "# from coastvision import geospatialTools\n",
    "# from coastvision.classifier import data_annotation_tool \n",
    "from coastvision import coastvision\n",
    "from coastvision import supportingFunctions\n",
    "from coastvision import dataSelectionTools"
   ]
  },
  {
   "attachments": {},
   "cell_type": "markdown",
   "id": "5ef62b82",
   "metadata": {},
   "source": [
    "# Digitize shoreline reference\n",
    "Here you enter the region, site, and the timeperiod you want to create a reference shoreline for (timeperiod can be None). Then you will choose an image from this timeperiod to hand digitize."
   ]
  },
  {
   "cell_type": "code",
   "execution_count": null,
   "id": "0149ee5b",
   "metadata": {
    "scrolled": true
   },
   "outputs": [],
   "source": [
    "import importlib\n",
    "importlib.reload(dataSelectionTools) \n",
    "importlib.reload(supportingFunctions) \n",
    "\n",
    "# this can be easily set up to run in a loop\n",
    "region = 'kauai'\n",
    "site = 'kauai0001'\n",
    "# dataSelectionTools.get_reference_sl(region, site, timeperiod=[[2010, 2025], [1, 12]])\n",
    "dataSelectionTools.get_reference_sl(region, site, timeperiod=None)\n",
    "\n",
    "# dataSelectionTools.get_reference_sl(region, site, (2010,2029))\n",
    "\n",
    "#dataSelectionTools.get_reference_sl('oahu', site, (2010,2019))"
   ]
  },
  {
   "cell_type": "code",
   "execution_count": null,
   "id": "a0da387c",
   "metadata": {},
   "outputs": [],
   "source": [
    "from coastvision import dataSelectionTools\n",
    "import importlib\n",
    "importlib.reload(dataSelectionTools)\n",
    "transects = dataSelectionTools.get_transects('trainingdata', 'cadizspain')"
   ]
  },
  {
   "cell_type": "code",
   "execution_count": null,
   "id": "752720a0",
   "metadata": {},
   "outputs": [],
   "source": [
    "timeperiods = [None, (2010, 2019), (2020, 2029)]\n",
    "timeperiods = [(2020, 2029)]\n",
    "\n",
    "for timeperiod in timeperiods:\n",
    "\n",
    "    for region in os.listdir(os.path.join(os.getcwd(), 'data')):\n",
    "        for sitename in os.listdir(os.path.join(os.getcwd(), 'data', region)):\n",
    "            if sitename != 'oahu0194':\n",
    "                continue\n",
    "            \n",
    "            pth = os.path.join(os.getcwd(), 'data', region, sitename,)\n",
    "            #validTifs = dataSelectionTools.select_tif_images(pth, timeperiod)\n",
    "\n",
    "pth"
   ]
  },
  {
   "attachments": {},
   "cell_type": "markdown",
   "id": "b9637176",
   "metadata": {},
   "source": [
    "# select reference shorelines\n",
    "Here you look through tif images from the specified time period and then run the model on those images. Then you look through the output and decide if you want to use one of the outputed contours as the reference shoreline"
   ]
  },
  {
   "cell_type": "code",
   "execution_count": null,
   "id": "f77326a3",
   "metadata": {},
   "outputs": [],
   "source": [
    "timeperiods = [None, (2010, 2019), (2020, 2029)]\n",
    "timeperiods = [(2020, 2029)]\n",
    "\n",
    "for timeperiod in timeperiods:\n",
    "\n",
    "    for region in os.listdir(os.path.join(os.getcwd(), 'data')):\n",
    "        for sitename in os.listdir(os.path.join(os.getcwd(), 'data', region)):\n",
    "            if sitename != 'oahu0194':\n",
    "                continue\n",
    "            \n",
    "            pth = os.path.join(os.getcwd(), 'data', region, sitename,)\n",
    "            validTifs = dataSelectionTools.select_tif_images(pth, timeperiod)\n",
    "\n",
    "            # %matplotlib inline\n",
    "            timestampList = list()\n",
    "            for validTif in validTifs:\n",
    "                itemID = '_'.join(validTif.split('_')[:-4])\n",
    "                # should check if classification already exists\n",
    "                %matplotlib inline\n",
    "                coastvision.run_coastvision_single(region, sitename, itemID, justShorelineExtract=True, dataProducts=True)\n",
    "                timestampList.append('_'.join(itemID.split('_')[:-1]))\n",
    "                \n",
    "                # NOTE: THERE ARE PLOTS IN run_coastvision_single THAT WILL BE\n",
    "\n",
    "\n",
    "            imgFolder = os.path.join(os.getcwd(), 'outputs', region, sitename, 'data_products', 'contours')\n",
    "\n",
    "            # select reference shoreline\n",
    "            contourpngFileList = dataSelectionTools.select_images(imgFolder, timeperiod=timeperiod, filterList=timestampList, onlySelectOne=False)\n",
    "\n",
    "            # The user can select multiple and the last one selected will become the reference shoreline\n",
    "            for contourPlotFn in contourpngFileList:\n",
    "                # right now this should just save the last shoreline the user said was good\n",
    "                fn_start = contourPlotFn.split('_rgb')[0].replace('-', '_')\n",
    "                year = fn_start.replace(sitename, '')\n",
    "                print(fn_start)\n",
    "                year = int(year[1:5])\n",
    "                print(year)\n",
    "                contourFileName = os.path.join(os.getcwd(), 'outputs', region, sitename, 'shoreline', 'contours', f'{fn_start}_contour.geojson')\n",
    "                if timeperiod is None:\n",
    "                    # also use as the default shoreline\n",
    "                    shutil.copyfile(contourFileName, os.path.join(os.getcwd(), 'user_inputs', region, sitename, f'{sitename}_shoreline.geojson'))\n",
    "                    shutil.copyfile(contourFileName, os.path.join(os.getcwd(), 'user_inputs', region, sitename, f'{sitename}_shoreline_{year}_{timeperiod[0]}-{timeperiod[1]}.geojson'))\n",
    "                else:\n",
    "                    shutil.copyfile(contourFileName, os.path.join(os.getcwd(), 'user_inputs', region, sitename, f'{sitename}_shoreline_{year}_{timeperiod[0]}-{timeperiod[1]}.geojson'))"
   ]
  },
  {
   "attachments": {},
   "cell_type": "markdown",
   "id": "aa3d616b",
   "metadata": {},
   "source": [
    "# select training data for satCNN"
   ]
  },
  {
   "cell_type": "code",
   "execution_count": null,
   "id": "2e383938",
   "metadata": {},
   "outputs": [],
   "source": [
    "for region in os.listdir(os.path.join(os.getcwd(), 'data')):\n",
    "    if not 'oahu' == region:\n",
    "        continue\n",
    "    for sitename in os.listdir(os.path.join(os.getcwd(), 'data', region)):\n",
    "\n",
    "        print(sitename)\n",
    "        imgFolder = os.path.join(os.getcwd(), 'outputs', region, sitename, 'data_products', 'contours')\n",
    "        \n",
    "        # select training data for is shoreline valid CNN\n",
    "        retuDict = dataSelectionTools.select_images(imgFolder, timeperiod=None, filterList=None, onlySelectOne=False, returnNonSelected=True) # we only want to look through\n",
    "        \n",
    "        # copy images to satCNN trianing data\n",
    "        if type(retuDict) == list:\n",
    "            continue # the user either didnt select any or only selected of one class NEED TO FIX SO THAT WE CAN RECOGNIZE THAT\n",
    "        for key, item in retuDict.items():\n",
    "            if key == 'selected':\n",
    "                classDir = 'validshoreline'\n",
    "            elif key == 'notselected':\n",
    "                classDir = 'invalidshoreline'\n",
    "            newTrainingDataDir = os.path.join(os.getcwd(), 'satCNN', 'data', 'shorelineQAQC', 'train', classDir)\n",
    "            for fn in item:\n",
    "                shutil.copy(os.path.join(imgFolder, fn), os.path.join(newTrainingDataDir))"
   ]
  },
  {
   "cell_type": "code",
   "execution_count": null,
   "id": "e1383d11",
   "metadata": {},
   "outputs": [],
   "source": []
  }
 ],
 "metadata": {
  "kernelspec": {
   "display_name": "Python 3 (ipykernel)",
   "language": "python",
   "name": "python3"
  },
  "language_info": {
   "codemirror_mode": {
    "name": "ipython",
    "version": 3
   },
   "file_extension": ".py",
   "mimetype": "text/x-python",
   "name": "python",
   "nbconvert_exporter": "python",
   "pygments_lexer": "ipython3",
   "version": "3.7.12"
  }
 },
 "nbformat": 4,
 "nbformat_minor": 5
}
